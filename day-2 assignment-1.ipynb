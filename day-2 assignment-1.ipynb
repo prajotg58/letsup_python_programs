{
 "cells": [
  {
   "cell_type": "markdown",
   "metadata": {},
   "source": [
    "#assigment work Day-1 Assignment-1"
   ]
  },
  {
   "cell_type": "markdown",
   "metadata": {},
   "source": [
    "1. try 5 different functions of the string in python"
   ]
  },
  {
   "cell_type": "code",
   "execution_count": 1,
   "metadata": {},
   "outputs": [
    {
     "name": "stdout",
     "output_type": "stream",
     "text": [
      "b\n",
      "a\n",
      "n\n",
      "a\n",
      "n\n",
      "a\n"
     ]
    }
   ],
   "source": [
    "#looping through a string\n",
    "\n",
    "for x in \"banana\":\n",
    "    print(x)"
   ]
  },
  {
   "cell_type": "code",
   "execution_count": 4,
   "metadata": {},
   "outputs": [
    {
     "name": "stdout",
     "output_type": "stream",
     "text": [
      "18\n"
     ]
    }
   ],
   "source": [
    "#string length\n",
    "\n",
    "x =\"hello, how are you\"\n",
    "print(len(x))"
   ]
  },
  {
   "cell_type": "raw",
   "metadata": {},
   "source": [
    "#string slicing      note: starting index is 0\n",
    "\n",
    "print(x[2:5])\n",
    "\n",
    "# characters from the start to position4\n",
    "print(x[:5])\n",
    "\n",
    "\n",
    "#Slice To the End\n",
    "print(x[2:])\n",
    "\n",
    "#Use negative indexes to start the slice from the end of the string\n",
    "print(x[-5:-2])"
   ]
  },
  {
   "cell_type": "code",
   "execution_count": 16,
   "metadata": {},
   "outputs": [
    {
     "name": "stdout",
     "output_type": "stream",
     "text": [
      " HELLO, HOW ARE YOU \n",
      " hello, how are you \n",
      "hello, how are you\n",
      " hio!, how are you \n"
     ]
    }
   ],
   "source": [
    "x =\" hello, how are you \"\n",
    "\n",
    "#Upper Case\n",
    "print(x.upper())\n",
    "\n",
    "\n",
    "#Lower Case\n",
    "print(x.lower())\n",
    "\n",
    "\n",
    "#the strip() method removes any whitespace from the beginning or the end\n",
    "print(x.strip())\n",
    "\n",
    "\n",
    "#replace\n",
    "print(x.replace(\"hello\",\"hio!\"))"
   ]
  },
  {
   "cell_type": "code",
   "execution_count": null,
   "metadata": {},
   "outputs": [],
   "source": []
  }
 ],
 "metadata": {
  "kernelspec": {
   "display_name": "Python 3",
   "language": "python",
   "name": "python3"
  },
  "language_info": {
   "codemirror_mode": {
    "name": "ipython",
    "version": 3
   },
   "file_extension": ".py",
   "mimetype": "text/x-python",
   "name": "python",
   "nbconvert_exporter": "python",
   "pygments_lexer": "ipython3",
   "version": "3.8.5"
  }
 },
 "nbformat": 4,
 "nbformat_minor": 4
}
