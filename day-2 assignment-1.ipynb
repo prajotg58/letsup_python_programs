{
 "cells": [
  {
   "cell_type": "markdown",
   "metadata": {},
   "source": [
    "#assigment work Day-1 Assignment-1"
   ]
  },
  {
   "cell_type": "markdown",
   "metadata": {},
   "source": [
    "Question No:1. try 5 different functions of the string in python"
   ]
  },
  {
   "cell_type": "code",
   "execution_count": 1,
   "metadata": {},
   "outputs": [
    {
     "name": "stdout",
     "output_type": "stream",
     "text": [
      "b\n",
      "a\n",
      "n\n",
      "a\n",
      "n\n",
      "a\n"
     ]
    }
   ],
   "source": [
    "#looping through a string\n",
    "\n",
    "for x in \"banana\":\n",
    "    print(x)"
   ]
  },
  {
   "cell_type": "code",
   "execution_count": 4,
   "metadata": {},
   "outputs": [
    {
     "name": "stdout",
     "output_type": "stream",
     "text": [
      "18\n"
     ]
    }
   ],
   "source": [
    "#string length\n",
    "\n",
    "x =\"hello, how are you\"\n",
    "print(len(x))"
   ]
  },
  {
   "cell_type": "raw",
   "metadata": {},
   "source": [
    "#string slicing      note: starting index is 0\n",
    "\n",
    "print(x[2:5])\n",
    "\n",
    "# characters from the start to position4\n",
    "print(x[:5])\n",
    "\n",
    "\n",
    "#Slice To the End\n",
    "print(x[2:])\n",
    "\n",
    "#Use negative indexes to start the slice from the end of the string\n",
    "print(x[-5:-2])"
   ]
  },
  {
   "cell_type": "code",
   "execution_count": 16,
   "metadata": {},
   "outputs": [
    {
     "name": "stdout",
     "output_type": "stream",
     "text": [
      " HELLO, HOW ARE YOU \n",
      " hello, how are you \n",
      "hello, how are you\n",
      " hio!, how are you \n"
     ]
    }
   ],
   "source": [
    "x =\" hello, how are you \"\n",
    "\n",
    "#Upper Case\n",
    "print(x.upper())\n",
    "\n",
    "\n",
    "#Lower Case\n",
    "print(x.lower())\n",
    "\n",
    "\n",
    "#the strip() method removes any whitespace from the beginning or the end\n",
    "print(x.strip())\n",
    "\n",
    "\n",
    "#replace\n",
    "print(x.replace(\"hello\",\"hio!\"))"
   ]
  },
  {
   "cell_type": "code",
   "execution_count": null,
   "metadata": {},
   "outputs": [],
   "source": []
  },
  {
   "cell_type": "markdown",
   "metadata": {},
   "source": [
    "Question no: 2.  \n",
    "Try 5 Different functions of the List object in Python \n"
   ]
  },
  {
   "cell_type": "code",
   "execution_count": 4,
   "metadata": {},
   "outputs": [
    {
     "name": "stdout",
     "output_type": "stream",
     "text": [
      "3\n"
     ]
    }
   ],
   "source": [
    "#  to check how many items available on the list use  len()  function\n",
    "lst = [\"apple\",\"banana\",\"mango\"]\n",
    "print(len(lst))"
   ]
  },
  {
   "cell_type": "code",
   "execution_count": 13,
   "metadata": {},
   "outputs": [
    {
     "name": "stdout",
     "output_type": "stream",
     "text": [
      "['john', 40, True, 60, 'male']\n"
     ]
    }
   ],
   "source": [
    "# list with string , integer and boolean value\n",
    "\n",
    "lst = [\"john\", 40, True, 60, \"male\"]\n",
    "print(lst)"
   ]
  },
  {
   "cell_type": "code",
   "execution_count": 9,
   "metadata": {},
   "outputs": [
    {
     "name": "stdout",
     "output_type": "stream",
     "text": [
      "['orange', 'kiwi', 'cherry']\n"
     ]
    }
   ],
   "source": [
    "#range of indexes\n",
    "\n",
    "lst = [\"apple\",\"banana\",\"orange\",\"kiwi\",\"cherry\",\"mango\"]       #indexing start with 0 , index  5 not included\n",
    "print(lst[2:5])"
   ]
  },
  {
   "cell_type": "code",
   "execution_count": 10,
   "metadata": {},
   "outputs": [
    {
     "name": "stdout",
     "output_type": "stream",
     "text": [
      "['apple', 'banana', 'kiwi', 'mango', 'papaya']\n"
     ]
    }
   ],
   "source": [
    "# to sort the list in assending(alphabetical) order use sort() metthod\n",
    "\n",
    "lst = [\"mango\",\"kiwi\",\"banana\",\"apple\",\"papaya\"]\n",
    "lst.sort()\n",
    "print(lst)"
   ]
  },
  {
   "cell_type": "code",
   "execution_count": 12,
   "metadata": {},
   "outputs": [
    {
     "name": "stdout",
     "output_type": "stream",
     "text": [
      "['papaya', 'mango', 'kiwi', 'banana', 'apple']\n"
     ]
    }
   ],
   "source": [
    "# sort in descending order use sort(reverse = true)\n",
    "\n",
    "lst = [\"mango\",\"kiwi\",\"banana\",\"apple\",\"papaya\"]\n",
    "lst.sort(reverse = True)\n",
    "print(lst)"
   ]
  },
  {
   "cell_type": "markdown",
   "metadata": {},
   "source": []
  },
  {
   "cell_type": "markdown",
   "metadata": {},
   "source": [
    "Question No: 3. \n",
    "Experiment with at least 5 default functions of Dictionary "
   ]
  },
  {
   "cell_type": "code",
   "execution_count": 15,
   "metadata": {},
   "outputs": [
    {
     "name": "stdout",
     "output_type": "stream",
     "text": [
      "dict_values(['computer science', 'Python', '15cs55'])\n"
     ]
    }
   ],
   "source": [
    "# values() method will return list of a all  values in the dictionary\n",
    "\n",
    "dict = {\n",
    "  \"branch\": \"computer science\",\n",
    "  \"Subject\": \"Python\",\n",
    "  \"subjectCode\": \"15cs55\"\n",
    "}\n",
    "\n",
    "x = dict.values()\n",
    "\n",
    "print(x)\n"
   ]
  },
  {
   "cell_type": "code",
   "execution_count": 16,
   "metadata": {},
   "outputs": [
    {
     "name": "stdout",
     "output_type": "stream",
     "text": [
      "{'branch': 'computer science', 'subject': 'python', 'subCode': '16cs77'}\n"
     ]
    }
   ],
   "source": [
    "#You can change the value of a specific item by referring to its key name\n",
    "\n",
    "dict = {\n",
    "    \"branch\": \"computer science\",\n",
    "    \"subject\": \"python\",\n",
    "    \"subCode\": \"15cs67\"\n",
    "    }\n",
    "dict[\"subCode\"] = \"16cs77\"\n",
    "print (dict)\n"
   ]
  },
  {
   "cell_type": "code",
   "execution_count": 18,
   "metadata": {},
   "outputs": [
    {
     "name": "stdout",
     "output_type": "stream",
     "text": [
      "{'branch': 'computer science', 'subject': 'python', 'subCode': '15cs78'}\n"
     ]
    }
   ],
   "source": [
    "# Update the \"subCode()\" of the student info by using the update() method\n",
    "\n",
    "dict = {\n",
    "    \"branch\": \"computer science\",\n",
    "    \"subject\": \"python\",\n",
    "    \"subCode\": \"15cs67\"\n",
    "    }\n",
    "dict.update({\"subCode\": \"15cs78\"})\n",
    "\n",
    "print(dict)\n",
    "\n"
   ]
  },
  {
   "cell_type": "code",
   "execution_count": 19,
   "metadata": {},
   "outputs": [
    {
     "name": "stdout",
     "output_type": "stream",
     "text": [
      "{'branch': 'computer science', 'subject': 'python', 'subCode': '15cs67', 'college': 'JGI'}\n"
     ]
    }
   ],
   "source": [
    "#Adding an item to the dictionary is done by using a new index key and assigning a value to it\n",
    "\n",
    "dict = {\n",
    "    \"branch\": \"computer science\",\n",
    "    \"subject\": \"python\",\n",
    "    \"subCode\": \"15cs67\"\n",
    "    }\n",
    "dict[\"college\"] = \"JGI\"\n",
    "print(dict)"
   ]
  },
  {
   "cell_type": "code",
   "execution_count": 20,
   "metadata": {},
   "outputs": [
    {
     "name": "stdout",
     "output_type": "stream",
     "text": [
      "{'branch': 'computer science', 'subject': 'python'}\n"
     ]
    }
   ],
   "source": [
    "#The pop() method removes the item with the specified key name\n",
    "\n",
    "dict = {\n",
    "    \"branch\": \"computer science\",\n",
    "    \"subject\": \"python\",\n",
    "    \"subCode\": \"15cs67\"\n",
    "    }\n",
    "dict.pop(\"subCode\")\n",
    "print(dict)"
   ]
  },
  {
   "cell_type": "code",
   "execution_count": null,
   "metadata": {},
   "outputs": [],
   "source": []
  }
 ],
 "metadata": {
  "kernelspec": {
   "display_name": "Python 3",
   "language": "python",
   "name": "python3"
  },
  "language_info": {
   "codemirror_mode": {
    "name": "ipython",
    "version": 3
   },
   "file_extension": ".py",
   "mimetype": "text/x-python",
   "name": "python",
   "nbconvert_exporter": "python",
   "pygments_lexer": "ipython3",
   "version": "3.8.5"
  }
 },
 "nbformat": 4,
 "nbformat_minor": 4
}
