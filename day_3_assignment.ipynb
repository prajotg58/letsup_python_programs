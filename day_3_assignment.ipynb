{
  "nbformat": 4,
  "nbformat_minor": 0,
  "metadata": {
    "colab": {
      "name": "day 3 assignment.ipynb",
      "provenance": []
    },
    "kernelspec": {
      "name": "python3",
      "display_name": "Python 3"
    }
  },
  "cells": [
    {
      "cell_type": "markdown",
      "metadata": {
        "id": "P3DxymqJvQyr"
      },
      "source": [
        "#Assignment Day 3 | 10th December 2020\r\n",
        "\r\n"
      ]
    },
    {
      "cell_type": "markdown",
      "metadata": {
        "id": "ZVK22wKAvjy_"
      },
      "source": [
        "#Question 1\r\n",
        "Use IF ELSE and ELIF to write a program in python for your Report Cards."
      ]
    },
    {
      "cell_type": "code",
      "metadata": {
        "colab": {
          "base_uri": "https://localhost:8080/"
        },
        "id": "U0teIJG0oW1n",
        "outputId": "9d1bbaa2-43d4-4146-fa9e-c6f473aa7895"
      },
      "source": [
        "#Student report card\r\n",
        "print('Student report card')\r\n",
        "print('=======================================')\r\n",
        "stud_name=input('Please enter Name :')\r\n",
        "stud_USN=input('Pleae enter USN :')\r\n",
        "python_marks=int(input('Please enter python marks :'))\r\n",
        "java_marks=int(input('Please enter java marks :'))\r\n",
        "dataScience_marks=int(input('Please enter dataScience marks :'))\r\n",
        "#Student totals and percentage\r\n",
        "stud_total_marks = java_marks + dataScience_marks + python_marks\r\n",
        "stud_percentage = round(stud_total_marks/300 * 100,2)\r\n",
        "#Print student Report card\r\n",
        "print('=======================================')\r\n",
        "print(f'python       : {python_marks}')\r\n",
        "print(f'java         : {java_marks}')\r\n",
        "print(f'dataScience  : {dataScience_marks}')\r\n",
        "print(f'Total        : {stud_total_marks}')\r\n",
        "print(f'Percentage   : {stud_percentage}%')\r\n",
        "print('=======================================')\r\n",
        "#Student marks classification\r\n",
        "if(stud_percentage>=75): \r\n",
        "  print('Distinction')\r\n",
        "elif stud_percentage >=60 and  stud_percentage< 75:\r\n",
        "  print('First Class')\r\n",
        "elif (stud_percentage>35 and stud_percentage<60):\r\n",
        "  print('Second class')\r\n",
        "else:\r\n",
        "  print('Fail')\r\n",
        "print('=======================================')"
      ],
      "execution_count": 9,
      "outputs": [
        {
          "output_type": "stream",
          "text": [
            "Student report card\n",
            "=======================================\n",
            "Please enter Name :vighnesh\n",
            "Pleae enter USN :2ji12cs676\n",
            "Please enter python marks :78\n",
            "Please enter java marks :90\n",
            "Please enter dataScience marks :88\n",
            "=======================================\n",
            "python       : 78\n",
            "java         : 90\n",
            "dataScience  : 88\n",
            "Total        : 256\n",
            "Percentage   : 85.33%\n",
            "=======================================\n",
            "Distinction\n",
            "=======================================\n"
          ],
          "name": "stdout"
        }
      ]
    },
    {
      "cell_type": "code",
      "metadata": {
        "id": "t5KELbfOof-V"
      },
      "source": [
        ""
      ],
      "execution_count": 9,
      "outputs": []
    },
    {
      "cell_type": "markdown",
      "metadata": {
        "id": "PP8NytP5usNe"
      },
      "source": [
        "#Question 2\r\n",
        "Use For Loop to Print Prime Numbers in between 1 to 1000\r\n"
      ]
    },
    {
      "cell_type": "code",
      "metadata": {
        "colab": {
          "base_uri": "https://localhost:8080/"
        },
        "id": "wWyF1Fo4wdt_",
        "outputId": "2fe14dd8-8fe2-4bfd-e536-447fdb0a8ad7"
      },
      "source": [
        "  \r\n",
        "for num in range(1,1000 + 1):  \r\n",
        "   if num > 1:  \r\n",
        "       for i in range(2,num):  \r\n",
        "           if (num % i) == 0:  \r\n",
        "               break  \r\n",
        "       else:  \r\n",
        "           print(num)  "
      ],
      "execution_count": 25,
      "outputs": [
        {
          "output_type": "stream",
          "text": [
            "2\n",
            "3\n",
            "5\n",
            "7\n",
            "11\n",
            "13\n",
            "17\n",
            "19\n",
            "23\n",
            "29\n",
            "31\n",
            "37\n",
            "41\n",
            "43\n",
            "47\n",
            "53\n",
            "59\n",
            "61\n",
            "67\n",
            "71\n",
            "73\n",
            "79\n",
            "83\n",
            "89\n",
            "97\n",
            "101\n",
            "103\n",
            "107\n",
            "109\n",
            "113\n",
            "127\n",
            "131\n",
            "137\n",
            "139\n",
            "149\n",
            "151\n",
            "157\n",
            "163\n",
            "167\n",
            "173\n",
            "179\n",
            "181\n",
            "191\n",
            "193\n",
            "197\n",
            "199\n",
            "211\n",
            "223\n",
            "227\n",
            "229\n",
            "233\n",
            "239\n",
            "241\n",
            "251\n",
            "257\n",
            "263\n",
            "269\n",
            "271\n",
            "277\n",
            "281\n",
            "283\n",
            "293\n",
            "307\n",
            "311\n",
            "313\n",
            "317\n",
            "331\n",
            "337\n",
            "347\n",
            "349\n",
            "353\n",
            "359\n",
            "367\n",
            "373\n",
            "379\n",
            "383\n",
            "389\n",
            "397\n",
            "401\n",
            "409\n",
            "419\n",
            "421\n",
            "431\n",
            "433\n",
            "439\n",
            "443\n",
            "449\n",
            "457\n",
            "461\n",
            "463\n",
            "467\n",
            "479\n",
            "487\n",
            "491\n",
            "499\n",
            "503\n",
            "509\n",
            "521\n",
            "523\n",
            "541\n",
            "547\n",
            "557\n",
            "563\n",
            "569\n",
            "571\n",
            "577\n",
            "587\n",
            "593\n",
            "599\n",
            "601\n",
            "607\n",
            "613\n",
            "617\n",
            "619\n",
            "631\n",
            "641\n",
            "643\n",
            "647\n",
            "653\n",
            "659\n",
            "661\n",
            "673\n",
            "677\n",
            "683\n",
            "691\n",
            "701\n",
            "709\n",
            "719\n",
            "727\n",
            "733\n",
            "739\n",
            "743\n",
            "751\n",
            "757\n",
            "761\n",
            "769\n",
            "773\n",
            "787\n",
            "797\n",
            "809\n",
            "811\n",
            "821\n",
            "823\n",
            "827\n",
            "829\n",
            "839\n",
            "853\n",
            "857\n",
            "859\n",
            "863\n",
            "877\n",
            "881\n",
            "883\n",
            "887\n",
            "907\n",
            "911\n",
            "919\n",
            "929\n",
            "937\n",
            "941\n",
            "947\n",
            "953\n",
            "967\n",
            "971\n",
            "977\n",
            "983\n",
            "991\n",
            "997\n"
          ],
          "name": "stdout"
        }
      ]
    },
    {
      "cell_type": "code",
      "metadata": {
        "id": "99pyH_FSxP6b"
      },
      "source": [
        "\r\n"
      ],
      "execution_count": 13,
      "outputs": []
    },
    {
      "cell_type": "markdown",
      "metadata": {
        "id": "c8OqNxB9ySKd"
      },
      "source": [
        "#Question 3\r\n",
        "Write a program for printing the tables from 1,10 using Nested For Loop\r\n"
      ]
    },
    {
      "cell_type": "markdown",
      "metadata": {
        "id": "j6bbco7t5FCn"
      },
      "source": [
        ""
      ]
    },
    {
      "cell_type": "code",
      "metadata": {
        "colab": {
          "base_uri": "https://localhost:8080/"
        },
        "id": "myca7cPRycPB",
        "outputId": "3ca64f07-2218-49c9-9fb5-17ae6497ffbe"
      },
      "source": [
        "for i in range(1, 11):\r\n",
        "    print(\" i =\", i  , \": \", end = \"  \")\r\n",
        "    for j in range(1, 11):\r\n",
        "        print(\"{:5d}\".format(i * j), end=\" \")\r\n",
        "    print()"
      ],
      "execution_count": 40,
      "outputs": [
        {
          "output_type": "stream",
          "text": [
            " i = 1 :       1     2     3     4     5     6     7     8     9    10 \n",
            " i = 2 :       2     4     6     8    10    12    14    16    18    20 \n",
            " i = 3 :       3     6     9    12    15    18    21    24    27    30 \n",
            " i = 4 :       4     8    12    16    20    24    28    32    36    40 \n",
            " i = 5 :       5    10    15    20    25    30    35    40    45    50 \n",
            " i = 6 :       6    12    18    24    30    36    42    48    54    60 \n",
            " i = 7 :       7    14    21    28    35    42    49    56    63    70 \n",
            " i = 8 :       8    16    24    32    40    48    56    64    72    80 \n",
            " i = 9 :       9    18    27    36    45    54    63    72    81    90 \n",
            " i = 10 :      10    20    30    40    50    60    70    80    90   100 \n"
          ],
          "name": "stdout"
        }
      ]
    },
    {
      "cell_type": "code",
      "metadata": {
        "id": "Wqi1AiDa0slS"
      },
      "source": [
        ""
      ],
      "execution_count": 40,
      "outputs": []
    },
    {
      "cell_type": "markdown",
      "metadata": {
        "id": "UfpE24rC8KdB"
      },
      "source": [
        "#Question 4\r\n",
        "Write a program to Print X Prime Numbers using While Loop starting from 0, and take the INput of X from\r\n",
        "the user"
      ]
    },
    {
      "cell_type": "code",
      "metadata": {
        "colab": {
          "base_uri": "https://localhost:8080/"
        },
        "id": "p4HmdW3x8Zpi",
        "outputId": "b7b3e2ec-a4d0-41b4-8e38-e699fc291a31"
      },
      "source": [
        "prime=2\r\n",
        "counter = 0\r\n",
        "x = int(input(\"Enter the number:\\n\"))\r\n",
        "while (counter < x):\r\n",
        "    if all(prime%j!=0 for j in range(2, prime)):\r\n",
        "        print(prime, \"is a prime number\")\r\n",
        "        counter+=1\r\n",
        "\r\n",
        "\r\n",
        "    prime+=1"
      ],
      "execution_count": 76,
      "outputs": [
        {
          "output_type": "stream",
          "text": [
            "Enter the number:\n",
            "5\n",
            "2 is a prime number\n",
            "3 is a prime number\n",
            "5 is a prime number\n",
            "7 is a prime number\n",
            "11 is a prime number\n"
          ],
          "name": "stdout"
        }
      ]
    },
    {
      "cell_type": "code",
      "metadata": {
        "id": "1963NDQn-9l3"
      },
      "source": [
        ""
      ],
      "execution_count": 75,
      "outputs": []
    },
    {
      "cell_type": "code",
      "metadata": {
        "id": "fv0z8ozgC4ZD"
      },
      "source": [
        ""
      ],
      "execution_count": null,
      "outputs": []
    }
  ]
}