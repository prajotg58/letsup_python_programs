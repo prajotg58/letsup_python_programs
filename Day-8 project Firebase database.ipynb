{
 "cells": [
  {
   "cell_type": "markdown",
   "metadata": {},
   "source": [
    "# Day-8 Assignment\n",
    "\n",
    "# 1.project firebase database"
   ]
  },
  {
   "cell_type": "code",
   "execution_count": 1,
   "metadata": {},
   "outputs": [
    {
     "name": "stdout",
     "output_type": "stream",
     "text": [
      "Collecting firebase\n",
      "  Downloading firebase-3.0.1-py3-none-any.whl (18 kB)\n",
      "Requirement already satisfied: requests in c:\\users\\pc\\anaconda3\\lib\\site-packages (from firebase) (2.24.0)\n",
      "Requirement already satisfied: urllib3!=1.25.0,!=1.25.1,<1.26,>=1.21.1 in c:\\users\\pc\\anaconda3\\lib\\site-packages (from requests->firebase) (1.25.11)\n",
      "Requirement already satisfied: chardet<4,>=3.0.2 in c:\\users\\pc\\anaconda3\\lib\\site-packages (from requests->firebase) (3.0.4)\n",
      "Requirement already satisfied: idna<3,>=2.5 in c:\\users\\pc\\anaconda3\\lib\\site-packages (from requests->firebase) (2.10)\n",
      "Requirement already satisfied: certifi>=2017.4.17 in c:\\users\\pc\\anaconda3\\lib\\site-packages (from requests->firebase) (2020.6.20)\n",
      "Installing collected packages: firebase\n",
      "Successfully installed firebase-3.0.1\n"
     ]
    }
   ],
   "source": [
    "#step No:1\n",
    "\n",
    "!pip install firebase"
   ]
  },
  {
   "cell_type": "code",
   "execution_count": 10,
   "metadata": {},
   "outputs": [
    {
     "name": "stdout",
     "output_type": "stream",
     "text": [
      "Collecting firebase-admin\n",
      "  Downloading firebase_admin-4.5.0-py3-none-any.whl (111 kB)\n",
      "Collecting cachecontrol>=0.12.6\n",
      "  Downloading CacheControl-0.12.6-py2.py3-none-any.whl (19 kB)\n",
      "Collecting google-api-core[grpc]<2.0.0dev,>=1.14.0; platform_python_implementation != \"PyPy\"\n",
      "  Downloading google_api_core-1.24.1-py2.py3-none-any.whl (92 kB)\n",
      "Collecting google-cloud-storage>=1.18.0\n",
      "  Downloading google_cloud_storage-1.35.0-py2.py3-none-any.whl (96 kB)\n",
      "Collecting google-api-python-client>=1.7.8\n",
      "  Downloading google_api_python_client-1.12.8-py2.py3-none-any.whl (61 kB)\n",
      "Collecting google-cloud-firestore>=1.4.0; platform_python_implementation != \"PyPy\"\n",
      "  Downloading google_cloud_firestore-2.0.2-py2.py3-none-any.whl (196 kB)\n",
      "Requirement already satisfied: requests in c:\\users\\pc\\anaconda3\\lib\\site-packages (from cachecontrol>=0.12.6->firebase-admin) (2.24.0)\n",
      "Requirement already satisfied: msgpack>=0.5.2 in c:\\users\\pc\\anaconda3\\lib\\site-packages (from cachecontrol>=0.12.6->firebase-admin) (1.0.0)\n",
      "Collecting googleapis-common-protos<2.0dev,>=1.6.0\n",
      "  Downloading googleapis_common_protos-1.52.0-py2.py3-none-any.whl (100 kB)\n",
      "Requirement already satisfied: six>=1.13.0 in c:\\users\\pc\\anaconda3\\lib\\site-packages (from google-api-core[grpc]<2.0.0dev,>=1.14.0; platform_python_implementation != \"PyPy\"->firebase-admin) (1.15.0)\n",
      "Collecting protobuf>=3.12.0\n",
      "  Downloading protobuf-3.14.0-py2.py3-none-any.whl (173 kB)\n",
      "Requirement already satisfied: setuptools>=34.0.0 in c:\\users\\pc\\anaconda3\\lib\\site-packages (from google-api-core[grpc]<2.0.0dev,>=1.14.0; platform_python_implementation != \"PyPy\"->firebase-admin) (50.3.1.post20201107)\n",
      "Requirement already satisfied: pytz in c:\\users\\pc\\anaconda3\\lib\\site-packages (from google-api-core[grpc]<2.0.0dev,>=1.14.0; platform_python_implementation != \"PyPy\"->firebase-admin) (2020.1)\n",
      "Collecting google-auth<2.0dev,>=1.21.1\n",
      "  Downloading google_auth-1.24.0-py2.py3-none-any.whl (114 kB)\n",
      "Collecting grpcio<2.0dev,>=1.29.0; extra == \"grpc\"\n",
      "  Downloading grpcio-1.34.0-cp38-cp38-win_amd64.whl (2.9 MB)\n",
      "Collecting google-cloud-core<2.0dev,>=1.4.1\n",
      "  Downloading google_cloud_core-1.5.0-py2.py3-none-any.whl (27 kB)\n",
      "Collecting google-resumable-media<2.0dev,>=1.2.0\n",
      "  Downloading google_resumable_media-1.2.0-py2.py3-none-any.whl (75 kB)\n",
      "Collecting uritemplate<4dev,>=3.0.0\n",
      "  Downloading uritemplate-3.0.1-py2.py3-none-any.whl (15 kB)\n",
      "Collecting httplib2<1dev,>=0.15.0\n",
      "  Downloading httplib2-0.18.1-py3-none-any.whl (95 kB)\n",
      "Collecting google-auth-httplib2>=0.0.3\n",
      "  Downloading google_auth_httplib2-0.0.4-py2.py3-none-any.whl (9.1 kB)\n",
      "Collecting proto-plus>=1.3.0\n",
      "  Downloading proto-plus-1.13.0.tar.gz (44 kB)\n",
      "Requirement already satisfied: chardet<4,>=3.0.2 in c:\\users\\pc\\anaconda3\\lib\\site-packages (from requests->cachecontrol>=0.12.6->firebase-admin) (3.0.4)\n",
      "Requirement already satisfied: idna<3,>=2.5 in c:\\users\\pc\\anaconda3\\lib\\site-packages (from requests->cachecontrol>=0.12.6->firebase-admin) (2.10)\n",
      "Requirement already satisfied: urllib3!=1.25.0,!=1.25.1,<1.26,>=1.21.1 in c:\\users\\pc\\anaconda3\\lib\\site-packages (from requests->cachecontrol>=0.12.6->firebase-admin) (1.25.11)\n",
      "Requirement already satisfied: certifi>=2017.4.17 in c:\\users\\pc\\anaconda3\\lib\\site-packages (from requests->cachecontrol>=0.12.6->firebase-admin) (2020.6.20)\n",
      "Collecting pyasn1-modules>=0.2.1\n",
      "  Downloading pyasn1_modules-0.2.8-py2.py3-none-any.whl (155 kB)\n",
      "Collecting rsa<5,>=3.1.4; python_version >= \"3.6\"\n",
      "  Downloading rsa-4.6-py3-none-any.whl (47 kB)\n",
      "Requirement already satisfied: cachetools<5.0,>=2.0.0 in c:\\users\\pc\\anaconda3\\lib\\site-packages (from google-auth<2.0dev,>=1.21.1->google-api-core[grpc]<2.0.0dev,>=1.14.0; platform_python_implementation != \"PyPy\"->firebase-admin) (4.2.0)\n",
      "Collecting google-crc32c<2.0dev,>=1.0; python_version >= \"3.5\"\n",
      "  Downloading google-crc32c-1.1.0.tar.gz (14 kB)\n",
      "  Installing build dependencies: started\n",
      "  Installing build dependencies: finished with status 'done'\n",
      "  Getting requirements to build wheel: started\n",
      "  Getting requirements to build wheel: finished with status 'done'\n",
      "  Installing backend dependencies: started\n",
      "  Installing backend dependencies: finished with status 'done'\n",
      "    Preparing wheel metadata: started\n",
      "    Preparing wheel metadata: finished with status 'done'\n",
      "Collecting pyasn1<0.5.0,>=0.4.6\n",
      "  Downloading pyasn1-0.4.8-py2.py3-none-any.whl (77 kB)\n",
      "Requirement already satisfied: cffi>=1.0.0 in c:\\users\\pc\\anaconda3\\lib\\site-packages (from google-crc32c<2.0dev,>=1.0; python_version >= \"3.5\"->google-resumable-media<2.0dev,>=1.2.0->google-cloud-storage>=1.18.0->firebase-admin) (1.14.3)\n",
      "Requirement already satisfied: pycparser in c:\\users\\pc\\anaconda3\\lib\\site-packages (from cffi>=1.0.0->google-crc32c<2.0dev,>=1.0; python_version >= \"3.5\"->google-resumable-media<2.0dev,>=1.2.0->google-cloud-storage>=1.18.0->firebase-admin) (2.20)\n",
      "Building wheels for collected packages: proto-plus, google-crc32c\n",
      "  Building wheel for proto-plus (setup.py): started\n",
      "  Building wheel for proto-plus (setup.py): finished with status 'done'\n",
      "  Created wheel for proto-plus: filename=proto_plus-1.13.0-py3-none-any.whl size=41595 sha256=ebaf70e1102afe44c202c75948ac83645d3da9d5890335a9d3f12bbc7249c012\n",
      "  Stored in directory: c:\\users\\pc\\appdata\\local\\pip\\cache\\wheels\\c4\\f7\\51\\d264693ef5a67296bb5601bca5834f5d5b12e325eb4b2d3f7f\n",
      "  Building wheel for google-crc32c (PEP 517): started\n",
      "  Building wheel for google-crc32c (PEP 517): finished with status 'done'\n",
      "  Created wheel for google-crc32c: filename=google_crc32c-1.1.0-py3-none-any.whl size=14065 sha256=c9f23124034f4c93a7276c164fbd72ded4e54601a790982c9764b5170b9cf99e\n",
      "  Stored in directory: c:\\users\\pc\\appdata\\local\\pip\\cache\\wheels\\ff\\b6\\b6\\fed658e7c3ce2ed7f140cf7739276593386464b11ee72f0752\n",
      "Successfully built proto-plus google-crc32c\n",
      "Installing collected packages: cachecontrol, protobuf, googleapis-common-protos, pyasn1, pyasn1-modules, rsa, google-auth, grpcio, google-api-core, google-cloud-core, google-crc32c, google-resumable-media, google-cloud-storage, uritemplate, httplib2, google-auth-httplib2, google-api-python-client, proto-plus, google-cloud-firestore, firebase-admin\n",
      "Successfully installed cachecontrol-0.12.6 firebase-admin-4.5.0 google-api-core-1.24.1 google-api-python-client-1.12.8 google-auth-1.24.0 google-auth-httplib2-0.0.4 google-cloud-core-1.5.0 google-cloud-firestore-2.0.2 google-cloud-storage-1.35.0 google-crc32c-1.1.0 google-resumable-media-1.2.0 googleapis-common-protos-1.52.0 grpcio-1.34.0 httplib2-0.18.1 proto-plus-1.13.0 protobuf-3.14.0 pyasn1-0.4.8 pyasn1-modules-0.2.8 rsa-4.6 uritemplate-3.0.1\n"
     ]
    }
   ],
   "source": [
    "#step No:2\n",
    "\n",
    "!pip install firebase-admin\n"
   ]
  },
  {
   "cell_type": "code",
   "execution_count": 11,
   "metadata": {},
   "outputs": [],
   "source": [
    "#import firbase\n",
    "\n",
    "import firebase_admin"
   ]
  },
  {
   "cell_type": "code",
   "execution_count": 12,
   "metadata": {},
   "outputs": [],
   "source": [
    "from firebase_admin import credentials\n",
    "from firebase_admin import firestore"
   ]
  },
  {
   "cell_type": "markdown",
   "metadata": {},
   "source": [
    "# download cred key ,place it in the selected folder any copy the name and paste into the cred var"
   ]
  },
  {
   "cell_type": "code",
   "execution_count": 13,
   "metadata": {},
   "outputs": [
    {
     "data": {
      "text/plain": [
       "<firebase_admin.App at 0x64243d9cd0>"
      ]
     },
     "execution_count": 13,
     "metadata": {},
     "output_type": "execute_result"
    }
   ],
   "source": [
    "\n",
    "\n",
    "cred = credentials.Certificate(\"prajot1-project-firebase-adminsdk-7n1zy-d809c417d3.json\")\n",
    "firebase_admin.initialize_app(cred)"
   ]
  },
  {
   "cell_type": "code",
   "execution_count": 14,
   "metadata": {},
   "outputs": [],
   "source": [
    "db = firestore.client()"
   ]
  },
  {
   "cell_type": "markdown",
   "metadata": {},
   "source": [
    "# insert data into the database"
   ]
  },
  {
   "cell_type": "code",
   "execution_count": 20,
   "metadata": {},
   "outputs": [
    {
     "data": {
      "text/plain": [
       "update_time {\n",
       "  seconds: 1608403295\n",
       "  nanos: 768990000\n",
       "}"
      ]
     },
     "execution_count": 20,
     "metadata": {},
     "output_type": "execute_result"
    }
   ],
   "source": [
    "doc_ref = db.collection(u'users').document(u'asr')\n",
    "doc_ref.set({\n",
    "    u'first': u'prj',\n",
    "    u'last': u'gaonkar',\n",
    "    u'born': 1996\n",
    "})\n"
   ]
  },
  {
   "cell_type": "code",
   "execution_count": 21,
   "metadata": {},
   "outputs": [],
   "source": [
    "def insertDataIntoDatabase(Name,course,Marks):\n",
    "    doc_ref = db.collection(u'users').document()\n",
    "    dict = {}\n",
    "    dict['Name']= Name\n",
    "    dict['course']=course\n",
    "    dict['marks']=Marks\n",
    "    doc_ref.set(dict)"
   ]
  },
  {
   "cell_type": "code",
   "execution_count": 22,
   "metadata": {},
   "outputs": [],
   "source": [
    "insertDataIntoDatabase('prajo','python',89)"
   ]
  },
  {
   "cell_type": "code",
   "execution_count": 23,
   "metadata": {},
   "outputs": [],
   "source": [
    "insertDataIntoDatabase('shubs','python',80)"
   ]
  },
  {
   "cell_type": "code",
   "execution_count": null,
   "metadata": {},
   "outputs": [],
   "source": []
  },
  {
   "cell_type": "code",
   "execution_count": 24,
   "metadata": {},
   "outputs": [],
   "source": [
    "def insertDataIntoDatabase():\n",
    "    doc_ref = db.collection(u'letsUP').document()\n",
    "    Name = input(\"enter your name : \")\n",
    "    course = input(\"Enter course: \")\n",
    "    Marks = input(\"Enter marks: \")\n",
    "    \n",
    "    dict = {}\n",
    "    dict['Name']= Name\n",
    "    dict['course']=course\n",
    "    dict['marks']=Marks\n",
    "    doc_ref.set(dict)"
   ]
  },
  {
   "cell_type": "code",
   "execution_count": 25,
   "metadata": {},
   "outputs": [
    {
     "name": "stdout",
     "output_type": "stream",
     "text": [
      "enter your name : guru\n",
      "Enter course: dsc\n",
      "Enter marks: 95\n"
     ]
    }
   ],
   "source": [
    "insertDataIntoDatabase()"
   ]
  },
  {
   "cell_type": "markdown",
   "metadata": {},
   "source": [
    "# read data"
   ]
  },
  {
   "cell_type": "code",
   "execution_count": 27,
   "metadata": {},
   "outputs": [
    {
     "name": "stdout",
     "output_type": "stream",
     "text": [
      "9SR10XBnhdSemdvD3kqA => {'Name': 'shubs', 'course': 'python', 'marks': 80}\n",
      "asr => {'first': 'prj', 'last': 'gaonkar', 'born': 1996}\n",
      "cPItApkmaaEltAoprUNB => {'Name': 'prajo', 'course': 'python', 'marks': 89}\n"
     ]
    }
   ],
   "source": [
    "docs = db.collection(u'users').stream()\n",
    "\n",
    "for doc in docs:\n",
    "    print(f'{doc.id} => {doc.to_dict()}')"
   ]
  },
  {
   "cell_type": "code",
   "execution_count": 35,
   "metadata": {},
   "outputs": [
    {
     "name": "stdout",
     "output_type": "stream",
     "text": [
      "ID _ 9SR10XBnhdSemdvD3kqA\n",
      "Name  shubs\n",
      "course python\n",
      "Marks 80\n",
      "=====================================\n",
      "=====================================\n",
      "ID _ asr\n",
      "Name  None\n",
      "course None\n",
      "Marks None\n",
      "=====================================\n",
      "=====================================\n",
      "ID _ cPItApkmaaEltAoprUNB\n",
      "Name  prajo\n",
      "course python\n",
      "Marks 89\n",
      "=====================================\n",
      "=====================================\n"
     ]
    }
   ],
   "source": [
    "docs = db.collection(u'users').stream()\n",
    "\n",
    "for doc in docs:\n",
    "#     print(f'{doc.id} => {doc.to_dict()}')\n",
    "    print(\"ID _\", doc.id)\n",
    "    print(\"Name \", doc.to_dict().get(\"Name\"))\n",
    "    print(\"course\",doc.to_dict().get(\"course\"))\n",
    "    print(\"Marks\",doc.to_dict().get(\"marks\"))\n",
    "        \n",
    "    print(\"=====================================\")\n",
    "    print(\"=====================================\")"
   ]
  },
  {
   "cell_type": "markdown",
   "metadata": {},
   "source": [
    "# update data"
   ]
  },
  {
   "cell_type": "code",
   "execution_count": 40,
   "metadata": {},
   "outputs": [],
   "source": [
    "\n",
    "def updateDatabase(uid,updatedMarks):\n",
    "    doc_ref = db.collection(u'users').document(uid)\n",
    "    doc_ref.update({\"Marks\" :updatedMarks})\n"
   ]
  },
  {
   "cell_type": "code",
   "execution_count": 41,
   "metadata": {},
   "outputs": [],
   "source": [
    "updateDatabase(\"cPItApkmaaEltAoprUNB\",96)"
   ]
  },
  {
   "cell_type": "code",
   "execution_count": null,
   "metadata": {},
   "outputs": [],
   "source": []
  },
  {
   "cell_type": "markdown",
   "metadata": {},
   "source": [
    "# delete data  on database"
   ]
  },
  {
   "cell_type": "code",
   "execution_count": 42,
   "metadata": {},
   "outputs": [],
   "source": [
    "def DeleteDataOnToTheDatabase(uid):\n",
    "    db.collection(u'users').document(uid).delete()"
   ]
  },
  {
   "cell_type": "code",
   "execution_count": 44,
   "metadata": {},
   "outputs": [],
   "source": [
    "DeleteDataOnToTheDatabase(\"asr\")"
   ]
  },
  {
   "cell_type": "code",
   "execution_count": null,
   "metadata": {},
   "outputs": [],
   "source": []
  }
 ],
 "metadata": {
  "kernelspec": {
   "display_name": "Python 3",
   "language": "python",
   "name": "python3"
  },
  "language_info": {
   "codemirror_mode": {
    "name": "ipython",
    "version": 3
   },
   "file_extension": ".py",
   "mimetype": "text/x-python",
   "name": "python",
   "nbconvert_exporter": "python",
   "pygments_lexer": "ipython3",
   "version": "3.8.5"
  }
 },
 "nbformat": 4,
 "nbformat_minor": 4
}
